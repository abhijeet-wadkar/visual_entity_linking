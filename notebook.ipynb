{
 "cells": [
  {
   "cell_type": "code",
   "execution_count": 28,
   "metadata": {
    "collapsed": false
   },
   "outputs": [
    {
     "data": {
      "text/plain": [
       "{\n",
       "  iterations : 100\n",
       "  img_size : 1280\n",
       "  num_training : 80000\n",
       "  batch_size : 20\n",
       "  gpuid : 2\n",
       "  img_file_path : ./images/\n",
       "  checkpoint_every : 2\n",
       "  learning_rate_decay : 0.95\n",
       "  learning_rate_decay_after : 20\n",
       "  masks_file_path : ./labels/\n",
       "  checkpointno : 10\n",
       "  data_dir : ./\n",
       "  json_file_path : ./Details.txt\n",
       "  learningRate : 0.01\n",
       "  test_model : 32000\n",
       "  num_val : 2000\n",
       "}\n"
      ]
     },
     "execution_count": 28,
     "metadata": {},
     "output_type": "execute_result"
    },
    {
     "data": {
      "text/plain": [
       "Parsing image meta data file...\n",
       "\t\n"
      ]
     },
     "execution_count": 28,
     "metadata": {},
     "output_type": "execute_result"
    },
    {
     "data": {
      "text/plain": [
       "Parsing objects json file...\n",
       "\t\n"
      ]
     },
     "execution_count": 28,
     "metadata": {},
     "output_type": "execute_result"
    }
   ],
   "source": [
    "require 'torch'\n",
    "require 'nn'\n",
    "require 'optim'\n",
    "require 'utils.DataLoader'\n",
    "require 'models.vgg'\n",
    "require 'models.small_model'\n",
    "opts = require('utils.parseopt')\n",
    "\n",
    "opt = opts.parse(arg)\n",
    "\n",
    "data_loader = DataLoader(opt)\n",
    "\n",
    "collectgarbage()\n",
    "\n",
    "imgs, labels = data_loader:next_batch()\n",
    "\n",
    "trainset = {}\n",
    "trainset.imgs = imgs\n",
    "trainset.labels = labels"
   ]
  },
  {
   "cell_type": "code",
   "execution_count": 31,
   "metadata": {
    "collapsed": false
   },
   "outputs": [
    {
     "data": {
      "text/plain": [
       "nil\t\n"
      ]
     },
     "execution_count": 31,
     "metadata": {},
     "output_type": "execute_result"
    }
   ],
   "source": [
    "print(trainset)"
   ]
  },
  {
   "cell_type": "code",
   "execution_count": 26,
   "metadata": {
    "collapsed": false,
    "scrolled": false
   },
   "outputs": [],
   "source": [
    "total_classes = data_loader:get_number_classes()\n",
    "model = create_small_model(total_classes)"
   ]
  },
  {
   "cell_type": "code",
   "execution_count": 27,
   "metadata": {
    "collapsed": true
   },
   "outputs": [],
   "source": [
    "criterion = nn.ClassNLLCriterion()"
   ]
  },
  {
   "cell_type": "code",
   "execution_count": 21,
   "metadata": {
    "collapsed": false
   },
   "outputs": [
    {
     "data": {
      "text/plain": [
       "Training the network\t\n"
      ]
     },
     "execution_count": 21,
     "metadata": {},
     "output_type": "execute_result"
    },
    {
     "data": {
      "text/plain": [
       "torch.DoubleTensor\t\n"
      ]
     },
     "execution_count": 21,
     "metadata": {},
     "output_type": "execute_result"
    },
    {
     "ename": "[string \"print('Training the network')...\"]:12: attempt to call method 'type' (a nil value)\nstack traceback:\n\t/Users/Abhijeet/torch/install/share/lua/5.2/itorch/main.lua:167: in function 'type'\n\t[string \"print('Training the network')...\"]:12: in main chunk\n\t[C]: in function 'xpcall'\n\t/Users/Abhijeet/torch/install/share/lua/5.2/itorch/main.lua:210: in function </Users/Abhijeet/torch/install/share/lua/5.2/itorch/main.lua:174>\n\t(...tail calls...)\n\t/Users/Abhijeet/torch/install/share/lua/5.2/lzmq/poller.lua:75: in function 'poll'\n\t.../Abhijeet/torch/install/share/lua/5.2/lzmq/impl/loop.lua:307: in function 'poll'\n\t.../Abhijeet/torch/install/share/lua/5.2/lzmq/impl/loop.lua:325: in function 'sleep_ex'\n\t.../Abhijeet/torch/install/share/lua/5.2/lzmq/impl/loop.lua:370: in function 'start'\n\t/Users/Abhijeet/torch/install/share/lua/5.2/itorch/main.lua:389: in main chunk\n\t[C]: in function 'require'\n\t(command line):1: in main chunk\n\t[C]: in ?",
     "evalue": "",
     "output_type": "error",
     "traceback": [
      "[string \"print('Training the network')...\"]:12: attempt to call method 'type' (a nil value)\nstack traceback:\n\t/Users/Abhijeet/torch/install/share/lua/5.2/itorch/main.lua:167: in function 'type'\n\t[string \"print('Training the network')...\"]:12: in main chunk\n\t[C]: in function 'xpcall'\n\t/Users/Abhijeet/torch/install/share/lua/5.2/itorch/main.lua:210: in function </Users/Abhijeet/torch/install/share/lua/5.2/itorch/main.lua:174>\n\t(...tail calls...)\n\t/Users/Abhijeet/torch/install/share/lua/5.2/lzmq/poller.lua:75: in function 'poll'\n\t.../Abhijeet/torch/install/share/lua/5.2/lzmq/impl/loop.lua:307: in function 'poll'\n\t.../Abhijeet/torch/install/share/lua/5.2/lzmq/impl/loop.lua:325: in function 'sleep_ex'\n\t.../Abhijeet/torch/install/share/lua/5.2/lzmq/impl/loop.lua:370: in function 'start'\n\t/Users/Abhijeet/torch/install/share/lua/5.2/itorch/main.lua:389: in main chunk\n\t[C]: in function 'require'\n\t(command line):1: in main chunk\n\t[C]: in ?"
     ]
    }
   ],
   "source": [
    "print('Training the network')\n",
    "\n",
    "model:training()\n",
    "model:updateParameters(0.001)\n",
    "\n",
    "batch_size = opt.batch_size\n",
    "number_iterations = opt.iterations\n",
    "num_batches = math.floor(data_loader:get_number_of_data_points()/opt.batch_size)\n",
    "\n",
    "imgs, labels  = data_loader:next_batch()\n",
    "trainset.imgs = imgs\n",
    "trainset.labels = labels\n",
    "print(imgs:type())\n",
    "print(labels:type())"
   ]
  },
  {
   "cell_type": "code",
   "execution_count": 18,
   "metadata": {
    "collapsed": false
   },
   "outputs": [
    {
     "data": {
      "text/plain": [
       "Iteration number 1\t\n"
      ]
     },
     "execution_count": 18,
     "metadata": {},
     "output_type": "execute_result"
    },
    {
     "data": {
      "text/plain": [
       "torch.DoubleTensor\t\n"
      ]
     },
     "execution_count": 18,
     "metadata": {},
     "output_type": "execute_result"
    },
    {
     "ename": "[string \"...\"]:7: attempt to call method 'type' (a nil value)\nstack traceback:\n\t/Users/Abhijeet/torch/install/share/lua/5.2/itorch/main.lua:167: in function 'type'\n\t[string \"...\"]:7: in main chunk\n\t[C]: in function 'xpcall'\n\t/Users/Abhijeet/torch/install/share/lua/5.2/itorch/main.lua:210: in function </Users/Abhijeet/torch/install/share/lua/5.2/itorch/main.lua:174>\n\t(...tail calls...)\n\t/Users/Abhijeet/torch/install/share/lua/5.2/lzmq/poller.lua:75: in function 'poll'\n\t.../Abhijeet/torch/install/share/lua/5.2/lzmq/impl/loop.lua:307: in function 'poll'\n\t.../Abhijeet/torch/install/share/lua/5.2/lzmq/impl/loop.lua:325: in function 'sleep_ex'\n\t.../Abhijeet/torch/install/share/lua/5.2/lzmq/impl/loop.lua:370: in function 'start'\n\t/Users/Abhijeet/torch/install/share/lua/5.2/itorch/main.lua:389: in main chunk\n\t[C]: in function 'require'\n\t(command line):1: in main chunk\n\t[C]: in ?",
     "evalue": "",
     "output_type": "error",
     "traceback": [
      "[string \"...\"]:7: attempt to call method 'type' (a nil value)\nstack traceback:\n\t/Users/Abhijeet/torch/install/share/lua/5.2/itorch/main.lua:167: in function 'type'\n\t[string \"...\"]:7: in main chunk\n\t[C]: in function 'xpcall'\n\t/Users/Abhijeet/torch/install/share/lua/5.2/itorch/main.lua:210: in function </Users/Abhijeet/torch/install/share/lua/5.2/itorch/main.lua:174>\n\t(...tail calls...)\n\t/Users/Abhijeet/torch/install/share/lua/5.2/lzmq/poller.lua:75: in function 'poll'\n\t.../Abhijeet/torch/install/share/lua/5.2/lzmq/impl/loop.lua:307: in function 'poll'\n\t.../Abhijeet/torch/install/share/lua/5.2/lzmq/impl/loop.lua:325: in function 'sleep_ex'\n\t.../Abhijeet/torch/install/share/lua/5.2/lzmq/impl/loop.lua:370: in function 'start'\n\t/Users/Abhijeet/torch/install/share/lua/5.2/itorch/main.lua:389: in main chunk\n\t[C]: in function 'require'\n\t(command line):1: in main chunk\n\t[C]: in ?"
     ]
    }
   ],
   "source": [
    "\n",
    "for i = 1, number_iterations*num_batches do\n",
    "    print('Iteration number ' .. i)\n",
    "    imgs, labels  = data_loader:next_batch()\n",
    "    imgs = imgs:double()\n",
    "    print(imgs:type())\n",
    "    print(labels:type())\n",
    "    collectgarbage()\n",
    "    model:zeroGradParameters()\n",
    "    output = model:forward(imgs)\n",
    "    loss = criterion:forward(output, labels)\n",
    "    gradient = criterion:backward(output, labels)\n",
    "    model:backward(imgs, gradient)\n",
    "    print(\"Loss: \" ..loss)\n",
    "end"
   ]
  }
 ],
 "metadata": {
  "anaconda-cloud": {},
  "kernelspec": {
   "display_name": "iTorch",
   "language": "lua",
   "name": "itorch"
  },
  "language_info": {
   "name": "lua",
   "version": "5.2"
  }
 },
 "nbformat": 4,
 "nbformat_minor": 1
}
